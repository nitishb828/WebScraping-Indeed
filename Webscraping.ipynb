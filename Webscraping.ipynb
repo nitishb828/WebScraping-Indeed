{
 "cells": [
  {
   "cell_type": "code",
   "execution_count": 35,
   "metadata": {},
   "outputs": [],
   "source": [
    "\n",
    "from selenium import webdriver\n",
    "from selenium.webdriver.chrome.service import Service\n",
    "from selenium.webdriver.chrome.options import Options\n",
    "from webdriver_manager.chrome import ChromeDriverManager\n",
    "from selenium.webdriver.common.by import By\n",
    "from selenium.webdriver.support.ui import WebDriverWait\n",
    "from selenium.webdriver.support import expected_conditions as EC\n",
    "from selenium.webdriver.common.keys import Keys\n",
    "import time\n",
    "import random\n",
    "\n",
    "options = Options()\n",
    "options.binary_location = \"/Applications/Google Chrome.app/Contents/MacOS/Google Chrome\"\n",
    "driver = webdriver.Chrome(service=Service(ChromeDriverManager().install()), options=options)\n",
    "\n",
    "job_data = []\n",
    "driver.get(f\"https://www.indeed.com/jobs?q=software+developer&l=Boston\")\n"
   ]
  },
  {
   "cell_type": "code",
   "execution_count": 36,
   "metadata": {},
   "outputs": [
    {
     "name": "stdout",
     "output_type": "stream",
     "text": [
      "['Transmedics Inc', 'CABEM Technologies', 'Expo Experts', 'Fidelity Investments', 'Selby Jennings', 'IPG Photonics', 'Capital One', 'Fidelity Investments', 'Capital One', 'Noir Consulting', 'Kforce', 'NetCapital', 'Product Genius', 'Kforce', 'John Galt Staffing']\n"
     ]
    }
   ],
   "source": [
    "href_lst = []\n",
    "names = []\n",
    "lst = [{}]\n",
    "for i in range(1,18): \n",
    "    company_name = driver.find_elements(By.XPATH,f\"\"\"/html/body/main/div/div[1]/div/div/div[5]/div[1]/div[5]/div/ul/li[{i}]/div/div[1]/div/div[1]/div/table[1]/tbody/tr/td/div[2]/span\"\"\")\n",
    "    company_location = driver.find_elements(By.XPATH,f\"\"\"//*[@id=\"mosaic-provider-jobcards\"]/ul/li[{i}]/div/div[1]/div/div[1]/div/table[1]/tbody/tr/td/div[2]/div\"\"\")\n",
    "    job_position = driver.find_elements(By.XPATH,f\"\"\"/html/body/main/div/div[1]/div/div/div[5]/div[1]/div[5]/div/ul/li[{i}]/div/div[1]/div/div[1]/div/table[1]/tbody/tr/td/div[1]/h2/a/span\"\"\")\n",
    "    salaries1 = driver.find_elements(By.XPATH, f\"\"\"/html/body/main/div/div[1]/div/div/div[5]/div[1]/div[5]/div/ul/li[{i}]/div/div[1]/div/div[1]/div/table[1]/tbody/tr/td/div[3]\"\"\")\n",
    "    descriptions = driver.find_elements(By.XPATH, f\"\"\"//*[@id=\"mosaic-provider-jobcards\"]/ul/li[{i}]/div/div[1]/div/div[1]/div/table[2]/tbody/tr[2]/td/div[1]/div\"\"\")\n",
    "    hrefs = driver.find_elements(By.XPATH, f\"\"\"/html/body/main/div/div[1]/div/div/div[5]/div[1]/div[5]/div/ul/li[{i}]/div/div[1]/div/div[1]/div/table[1]/tbody/tr/td/div[1]/h2/a\"\"\")\n",
    "    tempdict = {}\n",
    "    for name in company_name:\n",
    "        tempdict[\"Company Name\"] = name.text\n",
    "        names.append(name.text)\n",
    "        break\n",
    "    for location in company_location:\n",
    "        tempdict[\"Location\"] = location.text\n",
    "    for position in job_position:\n",
    "        tempdict[\"Position\"] = position.text\n",
    "    if len(salaries1) > 0:\n",
    "        for salary in salaries1:\n",
    "            tempdict[\"Salary/Type Of Employment\"] = salary.text\n",
    "    for description in descriptions:\n",
    "        tempdict[\"Job Description\"] = description.text\n",
    "    for href in hrefs:\n",
    "        href_value = href.get_attribute(\"href\")\n",
    "        tempdict[\"Href\"] = href_value\n",
    "        href_lst.append(href_value)\n",
    "    lst.append(tempdict)\n",
    "    tempdict = {}\n",
    "lst = list(filter(None, lst))\n",
    "print(names)\n",
    "\n"
   ]
  },
  {
   "cell_type": "code",
   "execution_count": 18,
   "metadata": {},
   "outputs": [
    {
     "name": "stdout",
     "output_type": "stream",
     "text": [
      "15\n",
      "https://www.indeed.com/pagead/clk?mo=r&ad=-6NYlbfkN0DX66YfC5vLwASa3-vRiDKPxGwo06bG3YC87AEII6JdVi3QKif20_jMG0jVGYgu5VaRJwrDI57rGym-dmOfeIzw3m4XZXFC2KQQd4QDg5xi_MXaHjOeZPtCqZ3Lcji-yhgV-1yahly3z_7OZ4GCrTA8OGGVofO0Box9qoDcvURRRvKbMq4Psf_Ad8bIMd1lR4rWtqyVlM-kgj2sbfTHX90GdbSL6y4jllIUpf1zW5PNLezuGuQHzE6Z9CXi3Bj9h6vZdYxWgHsPgX0Ea_z5KkyAqFwPPawIPHtxbZbMjp3UtHjImWwsEXfagFXFaHU2GXx07lu8NeHHgOtGICS7XC3Zl6wlHZaXiiqnw46yTMDuyDALNgdS_7EkYWAqXE7dHX-73WNZwFWhijLaFBm54vS3soxtYnea9vBkIvEj7N9H6OwbU_X-cuhMg8FG-yhOopfKvV0cKTeRy3mUXFzDG4PDFVcbUgscTW02ZZ1L7VrOVBln-MHp7pl-VWwtSNGvbwZ2-M7ryr-9kqfg--04Oq9Il0OmBxurDrmJlhr6aPbHkQXaCI1kIYJvjDa03nWVKC1Fsix0D3DRHNUcAXokciN5VyaBL7-qTl-moUz2HJ2lG6ukeDoUeWo_gZOsCkDL3KzKePMBgCo3dULYfyG_nUV9deDYbXzt_2415AlWXgGNKylAgm2VmYru&xkcb=SoBP-_M3MgBUNVQdy50KbzkdCdPP&p=0&fvj=0&vjs=3\n",
      "Why choose between doing meaningful work and having a fulfilling life? At MITRE, you can have both. That's because MITRE people are committed to tackling our nation's toughest challenges—and we're committed to the long-term well-being of our employees. MITRE is different from most technology companies. We are a not-for-profit corporation chartered to work for the public interest, with no commercial conflicts to influence what we do. The R&D centers we operate for the government create lasting impact in fields as diverse as cybersecurity, healthcare, aviation, defense, and enterprise transformation. We're making a difference every day—working for a safer, healthier, and more secure nation and world. Our workplace reflects our values. We offer competitive benefits, exceptional professional development opportunities, and a culture of innovation that embraces diversity, inclusion, flexibility, collaboration, and career growth. If this sounds like the choice you want to make, then choose MITRE—and make a difference with us.\n",
      "Department Summary:\n",
      "As an operator of Federally Funded Research and Development Centers (FFRDCs), MITRE staff are tasked with applying their skills to impact programmatic and technical decisions of highest importance to the nation. Technical staff in the Network Architecture, Security, and Data Analytics Department specialize in solving network-related problems critical to national well-being. Part of MITRE Labs’ Infrastructure and Networking Innovation Center, we research, develop, and employ advanced technologies in network architectures, dynamic network analysis, machine learning, cellular networking, software defined networking, programmable data plane, operational technology systems, future network science, and more. The department’s culture emphasizes collaboration and collegiality.\n",
      "Roles and Responsibilities:\n",
      "Senior technical staff are expected to make impactful contributions on one or more mission-driven projects. As a network software engineer, you may be expected to:\n",
      "Design and develop a prototype of networking and security capabilities in MITRE advanced labs\n",
      "Develop software leveraging data to manage and operate network behavior and management\n",
      "Conduct a performance assessment of an emerging network technology\n",
      "Solve complex problems in areas such as enterprise network architecture, virtualization and cloud infrastructure, wired and wireless networks, and network security\n",
      "Investigate security vulnerabilities of a network architecture or protocol\n",
      "Collaborate with government, industry, and academia to establish best practices and networking standards\n",
      "Work on diverse multi-disciplinary research teams to develop research proposals and opportunities and deliver innovative solutions\n",
      "Minimum Qualifications:\n",
      "Requires a minimum of 5 years of related experience with a Bachelor’s degree; or 3 years and a Master’s degree; or a PhD without experience; or equivalent combination of related education and work experience.\n",
      "Hands-on integration of open-source networking technologies (e.g., open v-switch, FRR, OpenStack)\n",
      "Hands on experience working with routing and switching infrastructure.\n",
      "Strong understanding of networking and security concepts/capabilities such as TCP/IP stack, routing & firewalls\n",
      "Solid software development background including languages such as C, Java and Python\n",
      "Strong written and verbal communication skills\n",
      "Passion for technology and a desire to learn\n",
      "Ability to obtain and maintain a Top Secret level security clearance\n",
      "Preferred Qualifications:\n",
      "Experience in 5G technology\n",
      "Hands-on contributions to large-scale (possibly open-source) software project(s)\n",
      "Master’s degree in a relevant engineering disciple\n",
      "This requisition requires the candidate to have a minimum of the following clearance(s):\n",
      "None\n",
      "This requisition requires the hired candidate to have or obtain, within one year from the date of hire, the following clearance(s):\n",
      "Top Secret\n",
      "Work Location Type:\n",
      "Hybrid\n",
      "MITRE is proud to be an equal opportunity employer. MITRE recruits, employs, trains, compensates, and promotes regardless of age; ancestry; color; family medical or genetic information; gender identity and expression; marital, military, or veteran status; national and ethnic origin; physical or mental disability; political affiliation; pregnancy; race; religion; sex; sexual orientation; and any other protected characteristics. For further information please visit the Equal Employment Opportunity Commission website EEO is the Law Poster and Pay Transparency.\n",
      "MITRE intends to maintain a website that is fully accessible to all individuals. If you are unable to search or apply for jobs and would like to request a reasonable accommodation for any part of MITRE’s employment process, please email recruitinghelp@mitre.org.\n",
      "Copyright © 1997-2023, The MITRE Corporation. All rights reserved. MITRE is a registered trademark of The MITRE Corporation. Material on this site may be copied and distributed with permission only.\n",
      "Benefits information may be found here\n",
      "https://www.indeed.com/pagead/clk?mo=r&ad=-6NYlbfkN0BfdJ3mH08LtnGXzyANXL5CRrH40yavIc3atA9Q_niDCVeVGAvotm6Uex2AQv82AzAv4VWFVrsBqQS_YXLcNXHG4Oj5hKIo1CjzWCSAOmEEHB4jxnHH5PHR3daNvmXZxZN3iEl_nVt9ty4uWPmCpy2FhKJe678I5LH-nqspEdx49ATYG6V5opf7fwfi0h5j0X7PQY-MsKrxbJ9IMKJA0rp_ju8m3Jgy4JETxAQDfIFC7MZG-pTH1Scf1A3zbKMC7fmBhWz1rVXqeK4KNl5UHxkCZkuaFPpzZzVBgfZRZN4lrUgT6CR6MOUt6HIeJF2bpGH8b1RHKowOmqC3SBhIGvOASkpAhyrkpqj2xqwvJZw-IEFG3iTg_ofeX2uh1yDt91O48-Tn8GRsXNKy3W8PTOFVMxstM1G52LmAC-hs244dy4qmWw3QsEmy9Anz9Y1vQBC4mjABLfe9lKUR960EHRRadJLUAQKdUmGSMjkRWSCTmM39q6_xlYLXyU1LwwRhKQLhd_w5aLI2VA==&xkcb=SoDS-_M3MgBUNVQdy50JbzkdCdPP&p=1&fvj=0&vjs=3\n",
      "Engineering Planning and Management, Inc (EPM) is a leading provider of specialized software tools for nuclear power plants and chemical facilities in the US and internationally.\n",
      "EPM is currently looking for a Developer for our Software and Technology Solutions division. In this role you will support our client/server C#/Oracle/SQL Server software applications and support the development of Web applications.\n",
      "Experience\n",
      "Three (3) to five (5) years practical experience in software development in a project-oriented environment\n",
      "Experience with Visual Studio C#, SQL statements\n",
      "Experience with .Net framework and Windows Presentation Foundation (WPF)\n",
      "Experience with Oracle, MS/SQL Server databases\n",
      "Experience with Web development tools (JavaScript, HTML, CSS, ASP.NET, Python, Django, React, ISS, Apache)\n",
      "Knowledge of relational database and client/server concepts\n",
      "Knowledge of structured database modeling (i.e., ERD)\n",
      "Knowledge of the software development life cycle\n",
      "Possessing an engineering aptitude, preferred\n",
      "Data transfer to Oracle / SQL Server databases, preferred\n",
      "Experience with software quality assurance, preferred\n",
      "Excellent written and verbal communication skills\n",
      "Education\n",
      "Bachelor’s degree in computer science/engineering preferred or five (5) years equivalent experience\n",
      "Other\n",
      "Candidates must be self sufficient and able to work independently as well as contribute to team efforts\n",
      "Short-term travel may be required\n",
      "Interested candidates should submit their resume and salary requirements to Human Resources at hr@epm-inc.com\n",
      "EPM is an Equal Opportunity Employer. Qualified candidates will receive consideration for employment without regard to race, color, religion, sex, national origin, sexual orientation, gender identity, disability, protected veteran status or any other federally protected category.\n",
      "Job Type: Full-time\n",
      "Benefits:\n",
      "401(k)\n",
      "401(k) matching\n",
      "Dental insurance\n",
      "Employee assistance program\n",
      "Flexible spending account\n",
      "Health insurance\n",
      "Life insurance\n",
      "Paid time off\n",
      "Professional development assistance\n",
      "Vision insurance\n",
      "Schedule:\n",
      "Monday to Friday\n",
      "Supplemental pay types:\n",
      "Bonus pay\n",
      "Work Location: Hybrid remote in Framingham, MA 01701\n",
      "https://www.indeed.com/pagead/clk?mo=r&ad=-6NYlbfkN0A-NHPE89aMEoKiA8B41Hae2nLWj54W-Qo-xrCvCh0mhAKoMAq4OKE2KNMJ9d3iQi--050WWjksZ93qT0ZYVQ8sUsZlHs019GNqP3iKnwKEuWo20K6aHCMFA79CUBY6oE7IAIE3pntVMsp61PN0y37XM7i05gG7bixCdmlTC9hazzk-Xc--H2gfpIvfP5CTaB4TYcnTj093GiV29sHBzHdvHBPTQxzIUjNCJm3Ur833EqKUjpwG7-kr5FLi3m0n1RMDG4NskuWSfgse7Ivkd_snQvAF90lVNBs7RQzOoshDp3A-5Aoowjcp3y9Y5RMBBF8uM346FaPj3h-4Lg7mEHnj7kqA4JISfNYnpkJ_ltiuvMAgzW5YTZMp5ig3YIbSzRReUrzzD5k_azyalpW2QOWc5-GE6l4u0FpYJJ2QMLrV2KgWGN9c13_ntQKb9utjp4pJJAKwfoxLcsNmyb-f7thwKbwL2xbCXH0YM-Rtxo5OFnKnAgMZxcrbGmBGOU0ZnxPETIXKRxKUUV5NOc4o_LHeCPkQLkp_JyxU8ZPL3uu0CKgfHfLC5UNxYQDwv5umJ91lfL-usSCFAKt2ZPgZ7RYgYEzC54X9-U72Bjw0PgShAsh7r-y-7YqeniJC3MQPUY-OBn6lTRCdQbmDB9KtRF2iJJALTDyN8x1ebCN8YqVL520kN7hVFsAl&xkcb=SoBm-_M3MgBUNVQdy50IbzkdCdPP&p=2&fvj=0&vjs=3\n"
     ]
    },
    {
     "ename": "KeyboardInterrupt",
     "evalue": "",
     "output_type": "error",
     "traceback": [
      "\u001b[0;31m---------------------------------------------------------------------------\u001b[0m",
      "\u001b[0;31mKeyboardInterrupt\u001b[0m                         Traceback (most recent call last)",
      "Cell \u001b[0;32mIn[18], line 5\u001b[0m\n\u001b[1;32m      3\u001b[0m \u001b[39mfor\u001b[39;00m href \u001b[39min\u001b[39;00m href_lst:\n\u001b[1;32m      4\u001b[0m     \u001b[39mprint\u001b[39m(href)\n\u001b[0;32m----> 5\u001b[0m     driver \u001b[39m=\u001b[39m webdriver\u001b[39m.\u001b[39mChrome(service\u001b[39m=\u001b[39mService(ChromeDriverManager()\u001b[39m.\u001b[39;49minstall()), options\u001b[39m=\u001b[39moptions)\n\u001b[1;32m      6\u001b[0m     driver\u001b[39m.\u001b[39mget(href)\n\u001b[1;32m      7\u001b[0m     jd_elements \u001b[39m=\u001b[39m driver\u001b[39m.\u001b[39mfind_elements(By\u001b[39m.\u001b[39mXPATH, \u001b[39m\"\"\"\u001b[39m\u001b[39m//*[@id=\u001b[39m\u001b[39m\"\u001b[39m\u001b[39mjobDescriptionText\u001b[39m\u001b[39m\"\u001b[39m\u001b[39m]\u001b[39m\u001b[39m\"\"\"\u001b[39m)\n",
      "File \u001b[0;32m/Library/Frameworks/Python.framework/Versions/3.10/lib/python3.10/site-packages/webdriver_manager/chrome.py:40\u001b[0m, in \u001b[0;36mChromeDriverManager.install\u001b[0;34m(self)\u001b[0m\n\u001b[1;32m     39\u001b[0m \u001b[39mdef\u001b[39;00m \u001b[39minstall\u001b[39m(\u001b[39mself\u001b[39m) \u001b[39m-\u001b[39m\u001b[39m>\u001b[39m \u001b[39mstr\u001b[39m:\n\u001b[0;32m---> 40\u001b[0m     driver_path \u001b[39m=\u001b[39m \u001b[39mself\u001b[39;49m\u001b[39m.\u001b[39;49m_get_driver_binary_path(\u001b[39mself\u001b[39;49m\u001b[39m.\u001b[39;49mdriver)\n\u001b[1;32m     41\u001b[0m     os\u001b[39m.\u001b[39mchmod(driver_path, \u001b[39m0o755\u001b[39m)\n\u001b[1;32m     42\u001b[0m     \u001b[39mreturn\u001b[39;00m driver_path\n",
      "File \u001b[0;32m/Library/Frameworks/Python.framework/Versions/3.10/lib/python3.10/site-packages/webdriver_manager/core/manager.py:41\u001b[0m, in \u001b[0;36mDriverManager._get_driver_binary_path\u001b[0;34m(self, driver)\u001b[0m\n\u001b[1;32m     39\u001b[0m os_type \u001b[39m=\u001b[39m \u001b[39mself\u001b[39m\u001b[39m.\u001b[39mget_os_type()\n\u001b[1;32m     40\u001b[0m file \u001b[39m=\u001b[39m \u001b[39mself\u001b[39m\u001b[39m.\u001b[39m_download_manager\u001b[39m.\u001b[39mdownload_file(driver\u001b[39m.\u001b[39mget_driver_download_url(os_type))\n\u001b[0;32m---> 41\u001b[0m binary_path \u001b[39m=\u001b[39m \u001b[39mself\u001b[39;49m\u001b[39m.\u001b[39;49m_cache_manager\u001b[39m.\u001b[39;49msave_file_to_cache(driver, file)\n\u001b[1;32m     42\u001b[0m \u001b[39mreturn\u001b[39;00m binary_path\n",
      "File \u001b[0;32m/Library/Frameworks/Python.framework/Versions/3.10/lib/python3.10/site-packages/webdriver_manager/core/driver_cache.py:54\u001b[0m, in \u001b[0;36mDriverCacheManager.save_file_to_cache\u001b[0;34m(self, driver, file)\u001b[0m\n\u001b[1;32m     52\u001b[0m path \u001b[39m=\u001b[39m \u001b[39mself\u001b[39m\u001b[39m.\u001b[39m__get_path(driver)\n\u001b[1;32m     53\u001b[0m archive \u001b[39m=\u001b[39m \u001b[39mself\u001b[39m\u001b[39m.\u001b[39msave_archive_file(file, path)\n\u001b[0;32m---> 54\u001b[0m files \u001b[39m=\u001b[39m \u001b[39mself\u001b[39;49m\u001b[39m.\u001b[39;49munpack_archive(archive, path)\n\u001b[1;32m     55\u001b[0m binary \u001b[39m=\u001b[39m \u001b[39mself\u001b[39m\u001b[39m.\u001b[39m__get_binary(files, driver\u001b[39m.\u001b[39mget_name())\n\u001b[1;32m     56\u001b[0m binary_path \u001b[39m=\u001b[39m os\u001b[39m.\u001b[39mpath\u001b[39m.\u001b[39mjoin(path, binary)\n",
      "File \u001b[0;32m/Library/Frameworks/Python.framework/Versions/3.10/lib/python3.10/site-packages/webdriver_manager/core/driver_cache.py:49\u001b[0m, in \u001b[0;36mDriverCacheManager.unpack_archive\u001b[0;34m(self, archive, path)\u001b[0m\n\u001b[1;32m     48\u001b[0m \u001b[39mdef\u001b[39;00m \u001b[39munpack_archive\u001b[39m(\u001b[39mself\u001b[39m, archive, path):\n\u001b[0;32m---> 49\u001b[0m     \u001b[39mreturn\u001b[39;00m \u001b[39mself\u001b[39;49m\u001b[39m.\u001b[39;49m_file_manager\u001b[39m.\u001b[39;49munpack_archive(archive, path)\n",
      "File \u001b[0;32m/Library/Frameworks/Python.framework/Versions/3.10/lib/python3.10/site-packages/webdriver_manager/core/file_manager.py:57\u001b[0m, in \u001b[0;36mFileManager.unpack_archive\u001b[0;34m(self, archive_file, target_dir)\u001b[0m\n\u001b[1;32m     55\u001b[0m file_path \u001b[39m=\u001b[39m archive_file\u001b[39m.\u001b[39mfile_path\n\u001b[1;32m     56\u001b[0m \u001b[39mif\u001b[39;00m file_path\u001b[39m.\u001b[39mendswith(\u001b[39m\"\u001b[39m\u001b[39m.zip\u001b[39m\u001b[39m\"\u001b[39m):\n\u001b[0;32m---> 57\u001b[0m     \u001b[39mreturn\u001b[39;00m \u001b[39mself\u001b[39;49m\u001b[39m.\u001b[39;49m__extract_zip(archive_file, target_dir)\n\u001b[1;32m     58\u001b[0m \u001b[39melif\u001b[39;00m file_path\u001b[39m.\u001b[39mendswith(\u001b[39m\"\u001b[39m\u001b[39m.tar.gz\u001b[39m\u001b[39m\"\u001b[39m):\n\u001b[1;32m     59\u001b[0m     \u001b[39mreturn\u001b[39;00m \u001b[39mself\u001b[39m\u001b[39m.\u001b[39m__extract_tar_file(archive_file, target_dir)\n",
      "File \u001b[0;32m/Library/Frameworks/Python.framework/Versions/3.10/lib/python3.10/site-packages/webdriver_manager/core/file_manager.py:65\u001b[0m, in \u001b[0;36mFileManager.__extract_zip\u001b[0;34m(self, archive_file, to_directory)\u001b[0m\n\u001b[1;32m     63\u001b[0m archive \u001b[39m=\u001b[39m zip_class(archive_file\u001b[39m.\u001b[39mfile_path)\n\u001b[1;32m     64\u001b[0m \u001b[39mtry\u001b[39;00m:\n\u001b[0;32m---> 65\u001b[0m     archive\u001b[39m.\u001b[39;49mextractall(to_directory)\n\u001b[1;32m     66\u001b[0m \u001b[39mexcept\u001b[39;00m \u001b[39mException\u001b[39;00m \u001b[39mas\u001b[39;00m e:\n\u001b[1;32m     67\u001b[0m     \u001b[39mif\u001b[39;00m e\u001b[39m.\u001b[39margs[\u001b[39m0\u001b[39m] \u001b[39mnot\u001b[39;00m \u001b[39min\u001b[39;00m [\u001b[39m26\u001b[39m, \u001b[39m13\u001b[39m] \u001b[39mand\u001b[39;00m e\u001b[39m.\u001b[39margs[\u001b[39m1\u001b[39m] \u001b[39mnot\u001b[39;00m \u001b[39min\u001b[39;00m [\n\u001b[1;32m     68\u001b[0m         \u001b[39m\"\u001b[39m\u001b[39mText file busy\u001b[39m\u001b[39m\"\u001b[39m,\n\u001b[1;32m     69\u001b[0m         \u001b[39m\"\u001b[39m\u001b[39mPermission denied\u001b[39m\u001b[39m\"\u001b[39m,\n\u001b[1;32m     70\u001b[0m     ]:\n",
      "File \u001b[0;32m/Library/Frameworks/Python.framework/Versions/3.10/lib/python3.10/zipfile.py:1645\u001b[0m, in \u001b[0;36mZipFile.extractall\u001b[0;34m(self, path, members, pwd)\u001b[0m\n\u001b[1;32m   1642\u001b[0m     path \u001b[39m=\u001b[39m os\u001b[39m.\u001b[39mfspath(path)\n\u001b[1;32m   1644\u001b[0m \u001b[39mfor\u001b[39;00m zipinfo \u001b[39min\u001b[39;00m members:\n\u001b[0;32m-> 1645\u001b[0m     \u001b[39mself\u001b[39;49m\u001b[39m.\u001b[39;49m_extract_member(zipinfo, path, pwd)\n",
      "File \u001b[0;32m/Library/Frameworks/Python.framework/Versions/3.10/lib/python3.10/zipfile.py:1700\u001b[0m, in \u001b[0;36mZipFile._extract_member\u001b[0;34m(self, member, targetpath, pwd)\u001b[0m\n\u001b[1;32m   1696\u001b[0m     \u001b[39mreturn\u001b[39;00m targetpath\n\u001b[1;32m   1698\u001b[0m \u001b[39mwith\u001b[39;00m \u001b[39mself\u001b[39m\u001b[39m.\u001b[39mopen(member, pwd\u001b[39m=\u001b[39mpwd) \u001b[39mas\u001b[39;00m source, \\\n\u001b[1;32m   1699\u001b[0m      \u001b[39mopen\u001b[39m(targetpath, \u001b[39m\"\u001b[39m\u001b[39mwb\u001b[39m\u001b[39m\"\u001b[39m) \u001b[39mas\u001b[39;00m target:\n\u001b[0;32m-> 1700\u001b[0m     shutil\u001b[39m.\u001b[39;49mcopyfileobj(source, target)\n\u001b[1;32m   1702\u001b[0m \u001b[39mreturn\u001b[39;00m targetpath\n",
      "File \u001b[0;32m/Library/Frameworks/Python.framework/Versions/3.10/lib/python3.10/shutil.py:195\u001b[0m, in \u001b[0;36mcopyfileobj\u001b[0;34m(fsrc, fdst, length)\u001b[0m\n\u001b[1;32m    193\u001b[0m fdst_write \u001b[39m=\u001b[39m fdst\u001b[39m.\u001b[39mwrite\n\u001b[1;32m    194\u001b[0m \u001b[39mwhile\u001b[39;00m \u001b[39mTrue\u001b[39;00m:\n\u001b[0;32m--> 195\u001b[0m     buf \u001b[39m=\u001b[39m fsrc_read(length)\n\u001b[1;32m    196\u001b[0m     \u001b[39mif\u001b[39;00m \u001b[39mnot\u001b[39;00m buf:\n\u001b[1;32m    197\u001b[0m         \u001b[39mbreak\u001b[39;00m\n",
      "File \u001b[0;32m/Library/Frameworks/Python.framework/Versions/3.10/lib/python3.10/zipfile.py:925\u001b[0m, in \u001b[0;36mZipExtFile.read\u001b[0;34m(self, n)\u001b[0m\n\u001b[1;32m    923\u001b[0m \u001b[39mself\u001b[39m\u001b[39m.\u001b[39m_offset \u001b[39m=\u001b[39m \u001b[39m0\u001b[39m\n\u001b[1;32m    924\u001b[0m \u001b[39mwhile\u001b[39;00m n \u001b[39m>\u001b[39m \u001b[39m0\u001b[39m \u001b[39mand\u001b[39;00m \u001b[39mnot\u001b[39;00m \u001b[39mself\u001b[39m\u001b[39m.\u001b[39m_eof:\n\u001b[0;32m--> 925\u001b[0m     data \u001b[39m=\u001b[39m \u001b[39mself\u001b[39;49m\u001b[39m.\u001b[39;49m_read1(n)\n\u001b[1;32m    926\u001b[0m     \u001b[39mif\u001b[39;00m n \u001b[39m<\u001b[39m \u001b[39mlen\u001b[39m(data):\n\u001b[1;32m    927\u001b[0m         \u001b[39mself\u001b[39m\u001b[39m.\u001b[39m_readbuffer \u001b[39m=\u001b[39m data\n",
      "File \u001b[0;32m/Library/Frameworks/Python.framework/Versions/3.10/lib/python3.10/zipfile.py:1001\u001b[0m, in \u001b[0;36mZipExtFile._read1\u001b[0;34m(self, n)\u001b[0m\n\u001b[1;32m    999\u001b[0m \u001b[39melif\u001b[39;00m \u001b[39mself\u001b[39m\u001b[39m.\u001b[39m_compress_type \u001b[39m==\u001b[39m ZIP_DEFLATED:\n\u001b[1;32m   1000\u001b[0m     n \u001b[39m=\u001b[39m \u001b[39mmax\u001b[39m(n, \u001b[39mself\u001b[39m\u001b[39m.\u001b[39mMIN_READ_SIZE)\n\u001b[0;32m-> 1001\u001b[0m     data \u001b[39m=\u001b[39m \u001b[39mself\u001b[39;49m\u001b[39m.\u001b[39;49m_decompressor\u001b[39m.\u001b[39;49mdecompress(data, n)\n\u001b[1;32m   1002\u001b[0m     \u001b[39mself\u001b[39m\u001b[39m.\u001b[39m_eof \u001b[39m=\u001b[39m (\u001b[39mself\u001b[39m\u001b[39m.\u001b[39m_decompressor\u001b[39m.\u001b[39meof \u001b[39mor\u001b[39;00m\n\u001b[1;32m   1003\u001b[0m                  \u001b[39mself\u001b[39m\u001b[39m.\u001b[39m_compress_left \u001b[39m<\u001b[39m\u001b[39m=\u001b[39m \u001b[39m0\u001b[39m \u001b[39mand\u001b[39;00m\n\u001b[1;32m   1004\u001b[0m                  \u001b[39mnot\u001b[39;00m \u001b[39mself\u001b[39m\u001b[39m.\u001b[39m_decompressor\u001b[39m.\u001b[39munconsumed_tail)\n\u001b[1;32m   1005\u001b[0m     \u001b[39mif\u001b[39;00m \u001b[39mself\u001b[39m\u001b[39m.\u001b[39m_eof:\n",
      "\u001b[0;31mKeyboardInterrupt\u001b[0m: "
     ]
    }
   ],
   "source": [
    "counter = 0\n",
    "print(len(lst))\n",
    "for href in href_lst:\n",
    "    print(href)\n",
    "    driver = webdriver.Chrome(service=Service(ChromeDriverManager().install()), options=options)\n",
    "    driver.get(href)\n",
    "    jd_elements = driver.find_elements(By.XPATH, \"\"\"//*[@id=\"jobDescriptionText\"]\"\"\")\n",
    "    for element in jd_elements:\n",
    "        print(element.text) \n",
    "        lst[counter][\"jd\"] = element.text\n",
    "        counter += 1\n",
    "    driver.close()"
   ]
  },
  {
   "cell_type": "code",
   "execution_count": 21,
   "metadata": {},
   "outputs": [],
   "source": [
    "import csv\n",
    "field_names = ['Company Name', 'Location', 'Position','Salary/Type Of Employment', 'Job Description', 'Href','jd']\n",
    "with open('Names.csv', 'w+', newline='') as csvfile:  # Use 'w+' mode to clear the file before writing\n",
    "    writer = csv.DictWriter(csvfile, fieldnames=field_names)\n",
    "    writer.writeheader()\n",
    "    writer.writerows(lst)\n"
   ]
  },
  {
   "cell_type": "code",
   "execution_count": 64,
   "metadata": {},
   "outputs": [],
   "source": [
    "def getValue(values):\n",
    "    for value in values:\n",
    "        return value.text"
   ]
  },
  {
   "cell_type": "code",
   "execution_count": 17,
   "metadata": {},
   "outputs": [],
   "source": [
    "resultArr = []\n",
    "counter = 0\n",
    "\n",
    "for name in names:\n",
    "    resultArr.append({})\n",
    "    driver = webdriver.Chrome(service=Service(ChromeDriverManager().install()), options=options)\n",
    "    driver.get(f\"\"\"https://www.indeed.com/cmp/{name}\"\"\")\n",
    "    time.sleep(2)\n",
    "    happiness = driver.find_elements(By.XPATH, f\"\"\"//*[@id=\"cmp-container\"]/div/div[1]/main/div[2]/div[1]/section/div[3]/div[1]/div/div[2]\"\"\") \n",
    "    purpose = driver.find_elements(By.XPATH, f\"\"\"//*[@id=\"cmp-container\"]/div/div[1]/main/div[2]/div[1]/section/div[3]/div[3]/div/div[2]\"\"\")\n",
    "    satisfaction = driver.find_elements(By.XPATH, f\"\"\"//*[@id=\"cmp-container\"]/div/div[1]/main/div[2]/div[1]/section/div[3]/div[3]/div/div[2]\"\"\")\n",
    "    stress_free = driver.find_elements(By.XPATH, f\"\"\"//*[@id=\"cmp-container\"]/div/div[1]/main/div[2]/div[1]/section/div[3]/div[4]/div/div[2]\"\"\")\n",
    "    rating = driver.find_elements(By.XPATH, f\"\"\"//*[@id=\"cmp-container\"]/div/div[1]/header/div[2]/div[3]/div/div/div/div[1]/div[1]/div[2]/div[2]/div/div[2]/span[2]\"\"\")\n",
    "    resultArr[counter][\"Company-Name\"] = name\n",
    "    resultArr[counter][\"Happiness\"] = getValue(happiness)\n",
    "    resultArr[counter][\"Purpose\"] = getValue(purpose)\n",
    "    resultArr[counter][\"Satisfaction\"] = getValue(satisfaction)\n",
    "    resultArr[counter][\"Stress-Free\"] = getValue(stress_free)\n",
    "    resultArr[counter][\"Rating\"] = getValue(rating)\n",
    "    counter += 1\n",
    "    driver.close()"
   ]
  },
  {
   "cell_type": "code",
   "execution_count": 59,
   "metadata": {},
   "outputs": [
    {
     "ename": "NameError",
     "evalue": "name 'resultArr' is not defined",
     "output_type": "error",
     "traceback": [
      "\u001b[0;31m---------------------------------------------------------------------------\u001b[0m",
      "\u001b[0;31mNameError\u001b[0m                                 Traceback (most recent call last)",
      "Cell \u001b[0;32mIn[59], line 1\u001b[0m\n\u001b[0;32m----> 1\u001b[0m \u001b[39mfor\u001b[39;00m element \u001b[39min\u001b[39;00m resultArr:\n\u001b[1;32m      2\u001b[0m     \u001b[39mprint\u001b[39m(element)\n\u001b[1;32m      3\u001b[0m field_names \u001b[39m=\u001b[39m [\u001b[39m'\u001b[39m\u001b[39mCompany-Name\u001b[39m\u001b[39m'\u001b[39m, \u001b[39m'\u001b[39m\u001b[39mHappiness\u001b[39m\u001b[39m'\u001b[39m, \u001b[39m'\u001b[39m\u001b[39mPurpose\u001b[39m\u001b[39m'\u001b[39m,\u001b[39m'\u001b[39m\u001b[39mSatisfaction\u001b[39m\u001b[39m'\u001b[39m, \u001b[39m'\u001b[39m\u001b[39mStress-Free\u001b[39m\u001b[39m'\u001b[39m, \u001b[39m'\u001b[39m\u001b[39mRating\u001b[39m\u001b[39m'\u001b[39m]\n",
      "\u001b[0;31mNameError\u001b[0m: name 'resultArr' is not defined"
     ]
    }
   ],
   "source": [
    "for element in resultArr:\n",
    "    print(element)\n",
    "field_names = ['Company-Name', 'Happiness', 'Purpose','Satisfaction', 'Stress-Free', 'Rating']\n",
    "with open('Reviews.csv', 'w+', newline='') as csvfile:  # Use 'w+' mode to clear the file before writing\n",
    "    writer = csv.DictWriter(csvfile, fieldnames=field_names)\n",
    "    writer.writeheader()\n",
    "    writer.writerows(resultArr)"
   ]
  },
  {
   "cell_type": "code",
   "execution_count": 75,
   "metadata": {},
   "outputs": [],
   "source": [
    "options = webdriver.ChromeOptions()\n",
    "options.add_argument('--start-maximized')  # Maximize the browser window\n",
    "\n",
    "# Initialize the WebDriver\n",
    "driver = webdriver.Chrome(service=Service(ChromeDriverManager().install()), options=options)\n",
    "\n",
    "# Open Glassdoor's login page\n",
    "driver.get('https://www.glassdoor.com/profile/login_input.htm')\n",
    "\n",
    "# Find the username field and fill it in\n",
    "username = driver.find_element(By.NAME, 'username')\n",
    "username.send_keys('vjvkxsbphmgzqjdhiq@cazlq.com')\n",
    "\n",
    "# Find the login button and click it\n",
    "button = driver.find_element(By.CLASS_NAME, 'gd-ui-button')\n",
    "button.click()\n",
    "time.sleep(1)\n",
    "# Find the password field and fill it in\n",
    "password = driver.find_element(By.NAME, 'password')\n",
    "password.send_keys('Testing123')\n",
    "\n",
    "# Submit the login form\n",
    "button = driver.find_element(By.CLASS_NAME, 'gd-ui-button')\n",
    "button.click()\n",
    "\n",
    "# Open a new tab\n",
    "driver.execute_script(\"window.open('', '_blank');\")\n",
    "\n",
    "# Switch to the new tab\n",
    "driver.switch_to.window(driver.window_handles[1])\n",
    "\n",
    "# Navigate to the desired link\n",
    "# new_tab_url = 'https://www.glassdoor.com/Reviews/index.htm?overall_rating_low=3.5&page=1&locId=1154532&locType=C&occ=Software%20Developer'\n",
    "new_tab_url = 'https://www.glassdoor.com/Reviews/IBM-Reviews-E354.htm'\n",
    "driver.get(new_tab_url)\n",
    "\n",
    "# Interact with the page in the new tab as needed\n",
    "\n",
    "# Close the old tab\n",
    "driver.switch_to.window(driver.window_handles[0])\n",
    "driver.close()\n",
    "\n",
    "# Switch back to the new tab\n",
    "driver.switch_to.window(driver.window_handles[0])\n"
   ]
  },
  {
   "cell_type": "code",
   "execution_count": 82,
   "metadata": {},
   "outputs": [
    {
     "name": "stdout",
     "output_type": "stream",
     "text": [
      "3.9\n"
     ]
    }
   ],
   "source": [
    "def grabElements():\n",
    "    rating = driver.find_element(By.CSS_SELECTOR, '.rating span[title]')\n",
    "    rating_value = rating.get_attribute('title')\n",
    "    print(rating_value)"
   ]
  },
  {
   "cell_type": "code",
   "execution_count": 69,
   "metadata": {},
   "outputs": [
    {
     "name": "stdout",
     "output_type": "stream",
     "text": [
      "Transmedics Inc\n",
      "\n",
      "CABEM Technologies\n",
      "\n"
     ]
    },
    {
     "ename": "KeyboardInterrupt",
     "evalue": "",
     "output_type": "error",
     "traceback": [
      "\u001b[0;31m---------------------------------------------------------------------------\u001b[0m",
      "\u001b[0;31mKeyboardInterrupt\u001b[0m                         Traceback (most recent call last)",
      "Cell \u001b[0;32mIn[69], line 24\u001b[0m\n\u001b[1;32m     22\u001b[0m driver\u001b[39m.\u001b[39mclose()\n\u001b[1;32m     23\u001b[0m driver\u001b[39m.\u001b[39mswitch_to\u001b[39m.\u001b[39mwindow(driver\u001b[39m.\u001b[39mwindow_handles[\u001b[39m0\u001b[39m])\n\u001b[0;32m---> 24\u001b[0m driver\u001b[39m.\u001b[39;49mback()\n",
      "File \u001b[0;32m/Library/Frameworks/Python.framework/Versions/3.10/lib/python3.10/site-packages/selenium/webdriver/remote/webdriver.py:549\u001b[0m, in \u001b[0;36mWebDriver.back\u001b[0;34m(self)\u001b[0m\n\u001b[1;32m    541\u001b[0m \u001b[39mdef\u001b[39;00m \u001b[39mback\u001b[39m(\u001b[39mself\u001b[39m) \u001b[39m-\u001b[39m\u001b[39m>\u001b[39m \u001b[39mNone\u001b[39;00m:\n\u001b[1;32m    542\u001b[0m \u001b[39m    \u001b[39m\u001b[39m\"\"\"Goes one step backward in the browser history.\u001b[39;00m\n\u001b[1;32m    543\u001b[0m \n\u001b[1;32m    544\u001b[0m \u001b[39m    :Usage:\u001b[39;00m\n\u001b[0;32m   (...)\u001b[0m\n\u001b[1;32m    547\u001b[0m \u001b[39m            driver.back()\u001b[39;00m\n\u001b[1;32m    548\u001b[0m \u001b[39m    \"\"\"\u001b[39;00m\n\u001b[0;32m--> 549\u001b[0m     \u001b[39mself\u001b[39;49m\u001b[39m.\u001b[39;49mexecute(Command\u001b[39m.\u001b[39;49mGO_BACK)\n",
      "File \u001b[0;32m/Library/Frameworks/Python.framework/Versions/3.10/lib/python3.10/site-packages/selenium/webdriver/remote/webdriver.py:344\u001b[0m, in \u001b[0;36mWebDriver.execute\u001b[0;34m(self, driver_command, params)\u001b[0m\n\u001b[1;32m    341\u001b[0m     \u001b[39melif\u001b[39;00m \u001b[39m\"\u001b[39m\u001b[39msessionId\u001b[39m\u001b[39m\"\u001b[39m \u001b[39mnot\u001b[39;00m \u001b[39min\u001b[39;00m params:\n\u001b[1;32m    342\u001b[0m         params[\u001b[39m\"\u001b[39m\u001b[39msessionId\u001b[39m\u001b[39m\"\u001b[39m] \u001b[39m=\u001b[39m \u001b[39mself\u001b[39m\u001b[39m.\u001b[39msession_id\n\u001b[0;32m--> 344\u001b[0m response \u001b[39m=\u001b[39m \u001b[39mself\u001b[39;49m\u001b[39m.\u001b[39;49mcommand_executor\u001b[39m.\u001b[39;49mexecute(driver_command, params)\n\u001b[1;32m    345\u001b[0m \u001b[39mif\u001b[39;00m response:\n\u001b[1;32m    346\u001b[0m     \u001b[39mself\u001b[39m\u001b[39m.\u001b[39merror_handler\u001b[39m.\u001b[39mcheck_response(response)\n",
      "File \u001b[0;32m/Library/Frameworks/Python.framework/Versions/3.10/lib/python3.10/site-packages/selenium/webdriver/remote/remote_connection.py:290\u001b[0m, in \u001b[0;36mRemoteConnection.execute\u001b[0;34m(self, command, params)\u001b[0m\n\u001b[1;32m    288\u001b[0m data \u001b[39m=\u001b[39m utils\u001b[39m.\u001b[39mdump_json(params)\n\u001b[1;32m    289\u001b[0m url \u001b[39m=\u001b[39m \u001b[39mf\u001b[39m\u001b[39m\"\u001b[39m\u001b[39m{\u001b[39;00m\u001b[39mself\u001b[39m\u001b[39m.\u001b[39m_url\u001b[39m}\u001b[39;00m\u001b[39m{\u001b[39;00mpath\u001b[39m}\u001b[39;00m\u001b[39m\"\u001b[39m\n\u001b[0;32m--> 290\u001b[0m \u001b[39mreturn\u001b[39;00m \u001b[39mself\u001b[39;49m\u001b[39m.\u001b[39;49m_request(command_info[\u001b[39m0\u001b[39;49m], url, body\u001b[39m=\u001b[39;49mdata)\n",
      "File \u001b[0;32m/Library/Frameworks/Python.framework/Versions/3.10/lib/python3.10/site-packages/selenium/webdriver/remote/remote_connection.py:311\u001b[0m, in \u001b[0;36mRemoteConnection._request\u001b[0;34m(self, method, url, body)\u001b[0m\n\u001b[1;32m    308\u001b[0m     body \u001b[39m=\u001b[39m \u001b[39mNone\u001b[39;00m\n\u001b[1;32m    310\u001b[0m \u001b[39mif\u001b[39;00m \u001b[39mself\u001b[39m\u001b[39m.\u001b[39mkeep_alive:\n\u001b[0;32m--> 311\u001b[0m     response \u001b[39m=\u001b[39m \u001b[39mself\u001b[39;49m\u001b[39m.\u001b[39;49m_conn\u001b[39m.\u001b[39;49mrequest(method, url, body\u001b[39m=\u001b[39;49mbody, headers\u001b[39m=\u001b[39;49mheaders)\n\u001b[1;32m    312\u001b[0m     statuscode \u001b[39m=\u001b[39m response\u001b[39m.\u001b[39mstatus\n\u001b[1;32m    313\u001b[0m \u001b[39melse\u001b[39;00m:\n",
      "File \u001b[0;32m/Library/Frameworks/Python.framework/Versions/3.10/lib/python3.10/site-packages/urllib3/request.py:78\u001b[0m, in \u001b[0;36mRequestMethods.request\u001b[0;34m(self, method, url, fields, headers, **urlopen_kw)\u001b[0m\n\u001b[1;32m     74\u001b[0m     \u001b[39mreturn\u001b[39;00m \u001b[39mself\u001b[39m\u001b[39m.\u001b[39mrequest_encode_url(\n\u001b[1;32m     75\u001b[0m         method, url, fields\u001b[39m=\u001b[39mfields, headers\u001b[39m=\u001b[39mheaders, \u001b[39m*\u001b[39m\u001b[39m*\u001b[39murlopen_kw\n\u001b[1;32m     76\u001b[0m     )\n\u001b[1;32m     77\u001b[0m \u001b[39melse\u001b[39;00m:\n\u001b[0;32m---> 78\u001b[0m     \u001b[39mreturn\u001b[39;00m \u001b[39mself\u001b[39;49m\u001b[39m.\u001b[39;49mrequest_encode_body(\n\u001b[1;32m     79\u001b[0m         method, url, fields\u001b[39m=\u001b[39;49mfields, headers\u001b[39m=\u001b[39;49mheaders, \u001b[39m*\u001b[39;49m\u001b[39m*\u001b[39;49murlopen_kw\n\u001b[1;32m     80\u001b[0m     )\n",
      "File \u001b[0;32m/Library/Frameworks/Python.framework/Versions/3.10/lib/python3.10/site-packages/urllib3/request.py:170\u001b[0m, in \u001b[0;36mRequestMethods.request_encode_body\u001b[0;34m(self, method, url, fields, headers, encode_multipart, multipart_boundary, **urlopen_kw)\u001b[0m\n\u001b[1;32m    167\u001b[0m extra_kw[\u001b[39m\"\u001b[39m\u001b[39mheaders\u001b[39m\u001b[39m\"\u001b[39m]\u001b[39m.\u001b[39mupdate(headers)\n\u001b[1;32m    168\u001b[0m extra_kw\u001b[39m.\u001b[39mupdate(urlopen_kw)\n\u001b[0;32m--> 170\u001b[0m \u001b[39mreturn\u001b[39;00m \u001b[39mself\u001b[39;49m\u001b[39m.\u001b[39;49murlopen(method, url, \u001b[39m*\u001b[39;49m\u001b[39m*\u001b[39;49mextra_kw)\n",
      "File \u001b[0;32m/Library/Frameworks/Python.framework/Versions/3.10/lib/python3.10/site-packages/urllib3/poolmanager.py:376\u001b[0m, in \u001b[0;36mPoolManager.urlopen\u001b[0;34m(self, method, url, redirect, **kw)\u001b[0m\n\u001b[1;32m    374\u001b[0m     response \u001b[39m=\u001b[39m conn\u001b[39m.\u001b[39murlopen(method, url, \u001b[39m*\u001b[39m\u001b[39m*\u001b[39mkw)\n\u001b[1;32m    375\u001b[0m \u001b[39melse\u001b[39;00m:\n\u001b[0;32m--> 376\u001b[0m     response \u001b[39m=\u001b[39m conn\u001b[39m.\u001b[39;49murlopen(method, u\u001b[39m.\u001b[39;49mrequest_uri, \u001b[39m*\u001b[39;49m\u001b[39m*\u001b[39;49mkw)\n\u001b[1;32m    378\u001b[0m redirect_location \u001b[39m=\u001b[39m redirect \u001b[39mand\u001b[39;00m response\u001b[39m.\u001b[39mget_redirect_location()\n\u001b[1;32m    379\u001b[0m \u001b[39mif\u001b[39;00m \u001b[39mnot\u001b[39;00m redirect_location:\n",
      "File \u001b[0;32m/Library/Frameworks/Python.framework/Versions/3.10/lib/python3.10/site-packages/urllib3/connectionpool.py:714\u001b[0m, in \u001b[0;36mHTTPConnectionPool.urlopen\u001b[0;34m(self, method, url, body, headers, retries, redirect, assert_same_host, timeout, pool_timeout, release_conn, chunked, body_pos, **response_kw)\u001b[0m\n\u001b[1;32m    711\u001b[0m     \u001b[39mself\u001b[39m\u001b[39m.\u001b[39m_prepare_proxy(conn)\n\u001b[1;32m    713\u001b[0m \u001b[39m# Make the request on the httplib connection object.\u001b[39;00m\n\u001b[0;32m--> 714\u001b[0m httplib_response \u001b[39m=\u001b[39m \u001b[39mself\u001b[39;49m\u001b[39m.\u001b[39;49m_make_request(\n\u001b[1;32m    715\u001b[0m     conn,\n\u001b[1;32m    716\u001b[0m     method,\n\u001b[1;32m    717\u001b[0m     url,\n\u001b[1;32m    718\u001b[0m     timeout\u001b[39m=\u001b[39;49mtimeout_obj,\n\u001b[1;32m    719\u001b[0m     body\u001b[39m=\u001b[39;49mbody,\n\u001b[1;32m    720\u001b[0m     headers\u001b[39m=\u001b[39;49mheaders,\n\u001b[1;32m    721\u001b[0m     chunked\u001b[39m=\u001b[39;49mchunked,\n\u001b[1;32m    722\u001b[0m )\n\u001b[1;32m    724\u001b[0m \u001b[39m# If we're going to release the connection in ``finally:``, then\u001b[39;00m\n\u001b[1;32m    725\u001b[0m \u001b[39m# the response doesn't need to know about the connection. Otherwise\u001b[39;00m\n\u001b[1;32m    726\u001b[0m \u001b[39m# it will also try to release it and we'll have a double-release\u001b[39;00m\n\u001b[1;32m    727\u001b[0m \u001b[39m# mess.\u001b[39;00m\n\u001b[1;32m    728\u001b[0m response_conn \u001b[39m=\u001b[39m conn \u001b[39mif\u001b[39;00m \u001b[39mnot\u001b[39;00m release_conn \u001b[39melse\u001b[39;00m \u001b[39mNone\u001b[39;00m\n",
      "File \u001b[0;32m/Library/Frameworks/Python.framework/Versions/3.10/lib/python3.10/site-packages/urllib3/connectionpool.py:466\u001b[0m, in \u001b[0;36mHTTPConnectionPool._make_request\u001b[0;34m(self, conn, method, url, timeout, chunked, **httplib_request_kw)\u001b[0m\n\u001b[1;32m    461\u001b[0m             httplib_response \u001b[39m=\u001b[39m conn\u001b[39m.\u001b[39mgetresponse()\n\u001b[1;32m    462\u001b[0m         \u001b[39mexcept\u001b[39;00m \u001b[39mBaseException\u001b[39;00m \u001b[39mas\u001b[39;00m e:\n\u001b[1;32m    463\u001b[0m             \u001b[39m# Remove the TypeError from the exception chain in\u001b[39;00m\n\u001b[1;32m    464\u001b[0m             \u001b[39m# Python 3 (including for exceptions like SystemExit).\u001b[39;00m\n\u001b[1;32m    465\u001b[0m             \u001b[39m# Otherwise it looks like a bug in the code.\u001b[39;00m\n\u001b[0;32m--> 466\u001b[0m             six\u001b[39m.\u001b[39;49mraise_from(e, \u001b[39mNone\u001b[39;49;00m)\n\u001b[1;32m    467\u001b[0m \u001b[39mexcept\u001b[39;00m (SocketTimeout, BaseSSLError, SocketError) \u001b[39mas\u001b[39;00m e:\n\u001b[1;32m    468\u001b[0m     \u001b[39mself\u001b[39m\u001b[39m.\u001b[39m_raise_timeout(err\u001b[39m=\u001b[39me, url\u001b[39m=\u001b[39murl, timeout_value\u001b[39m=\u001b[39mread_timeout)\n",
      "File \u001b[0;32m<string>:3\u001b[0m, in \u001b[0;36mraise_from\u001b[0;34m(value, from_value)\u001b[0m\n",
      "File \u001b[0;32m/Library/Frameworks/Python.framework/Versions/3.10/lib/python3.10/site-packages/urllib3/connectionpool.py:461\u001b[0m, in \u001b[0;36mHTTPConnectionPool._make_request\u001b[0;34m(self, conn, method, url, timeout, chunked, **httplib_request_kw)\u001b[0m\n\u001b[1;32m    458\u001b[0m \u001b[39mexcept\u001b[39;00m \u001b[39mTypeError\u001b[39;00m:\n\u001b[1;32m    459\u001b[0m     \u001b[39m# Python 3\u001b[39;00m\n\u001b[1;32m    460\u001b[0m     \u001b[39mtry\u001b[39;00m:\n\u001b[0;32m--> 461\u001b[0m         httplib_response \u001b[39m=\u001b[39m conn\u001b[39m.\u001b[39;49mgetresponse()\n\u001b[1;32m    462\u001b[0m     \u001b[39mexcept\u001b[39;00m \u001b[39mBaseException\u001b[39;00m \u001b[39mas\u001b[39;00m e:\n\u001b[1;32m    463\u001b[0m         \u001b[39m# Remove the TypeError from the exception chain in\u001b[39;00m\n\u001b[1;32m    464\u001b[0m         \u001b[39m# Python 3 (including for exceptions like SystemExit).\u001b[39;00m\n\u001b[1;32m    465\u001b[0m         \u001b[39m# Otherwise it looks like a bug in the code.\u001b[39;00m\n\u001b[1;32m    466\u001b[0m         six\u001b[39m.\u001b[39mraise_from(e, \u001b[39mNone\u001b[39;00m)\n",
      "File \u001b[0;32m/Library/Frameworks/Python.framework/Versions/3.10/lib/python3.10/http/client.py:1374\u001b[0m, in \u001b[0;36mHTTPConnection.getresponse\u001b[0;34m(self)\u001b[0m\n\u001b[1;32m   1372\u001b[0m \u001b[39mtry\u001b[39;00m:\n\u001b[1;32m   1373\u001b[0m     \u001b[39mtry\u001b[39;00m:\n\u001b[0;32m-> 1374\u001b[0m         response\u001b[39m.\u001b[39;49mbegin()\n\u001b[1;32m   1375\u001b[0m     \u001b[39mexcept\u001b[39;00m \u001b[39mConnectionError\u001b[39;00m:\n\u001b[1;32m   1376\u001b[0m         \u001b[39mself\u001b[39m\u001b[39m.\u001b[39mclose()\n",
      "File \u001b[0;32m/Library/Frameworks/Python.framework/Versions/3.10/lib/python3.10/http/client.py:318\u001b[0m, in \u001b[0;36mHTTPResponse.begin\u001b[0;34m(self)\u001b[0m\n\u001b[1;32m    316\u001b[0m \u001b[39m# read until we get a non-100 response\u001b[39;00m\n\u001b[1;32m    317\u001b[0m \u001b[39mwhile\u001b[39;00m \u001b[39mTrue\u001b[39;00m:\n\u001b[0;32m--> 318\u001b[0m     version, status, reason \u001b[39m=\u001b[39m \u001b[39mself\u001b[39;49m\u001b[39m.\u001b[39;49m_read_status()\n\u001b[1;32m    319\u001b[0m     \u001b[39mif\u001b[39;00m status \u001b[39m!=\u001b[39m CONTINUE:\n\u001b[1;32m    320\u001b[0m         \u001b[39mbreak\u001b[39;00m\n",
      "File \u001b[0;32m/Library/Frameworks/Python.framework/Versions/3.10/lib/python3.10/http/client.py:279\u001b[0m, in \u001b[0;36mHTTPResponse._read_status\u001b[0;34m(self)\u001b[0m\n\u001b[1;32m    278\u001b[0m \u001b[39mdef\u001b[39;00m \u001b[39m_read_status\u001b[39m(\u001b[39mself\u001b[39m):\n\u001b[0;32m--> 279\u001b[0m     line \u001b[39m=\u001b[39m \u001b[39mstr\u001b[39m(\u001b[39mself\u001b[39;49m\u001b[39m.\u001b[39;49mfp\u001b[39m.\u001b[39;49mreadline(_MAXLINE \u001b[39m+\u001b[39;49m \u001b[39m1\u001b[39;49m), \u001b[39m\"\u001b[39m\u001b[39miso-8859-1\u001b[39m\u001b[39m\"\u001b[39m)\n\u001b[1;32m    280\u001b[0m     \u001b[39mif\u001b[39;00m \u001b[39mlen\u001b[39m(line) \u001b[39m>\u001b[39m _MAXLINE:\n\u001b[1;32m    281\u001b[0m         \u001b[39mraise\u001b[39;00m LineTooLong(\u001b[39m\"\u001b[39m\u001b[39mstatus line\u001b[39m\u001b[39m\"\u001b[39m)\n",
      "File \u001b[0;32m/Library/Frameworks/Python.framework/Versions/3.10/lib/python3.10/socket.py:705\u001b[0m, in \u001b[0;36mSocketIO.readinto\u001b[0;34m(self, b)\u001b[0m\n\u001b[1;32m    703\u001b[0m \u001b[39mwhile\u001b[39;00m \u001b[39mTrue\u001b[39;00m:\n\u001b[1;32m    704\u001b[0m     \u001b[39mtry\u001b[39;00m:\n\u001b[0;32m--> 705\u001b[0m         \u001b[39mreturn\u001b[39;00m \u001b[39mself\u001b[39;49m\u001b[39m.\u001b[39;49m_sock\u001b[39m.\u001b[39;49mrecv_into(b)\n\u001b[1;32m    706\u001b[0m     \u001b[39mexcept\u001b[39;00m timeout:\n\u001b[1;32m    707\u001b[0m         \u001b[39mself\u001b[39m\u001b[39m.\u001b[39m_timeout_occurred \u001b[39m=\u001b[39m \u001b[39mTrue\u001b[39;00m\n",
      "\u001b[0;31mKeyboardInterrupt\u001b[0m: "
     ]
    }
   ],
   "source": [
    "\n",
    "driver.switch_to.window(driver.window_handles[0])\n",
    "for name in names:\n",
    "    print(name)\n",
    "    company_name = driver.find_element(By.NAME, 'companyAutocomplete')\n",
    "    company_name.send_keys(name)\n",
    "    button = driver.find_element(By.CLASS_NAME, 'gd-ui-button')\n",
    "    button.click()\n",
    "    time.sleep(2)\n",
    "    a_element = driver.find_element(By.CLASS_NAME, \"company-tile\")\n",
    "    href_value = a_element.get_attribute(\"href\")\n",
    "    driver.execute_script(\"window.open('', '_blank');\")\n",
    "    driver.switch_to.window(driver.window_handles[1])\n",
    "    driver.get(href_value)\n",
    "    a_element = driver.find_element(By.CSS_SELECTOR, '[data-test=\"ei-nav-reviews-link\"]')\n",
    "    href_value = a_element.get_attribute(\"href\")\n",
    "    driver.get(href_value)\n",
    "    time.sleep(2)\n",
    "    grabElements()\n",
    "    driver.close()\n",
    "    driver.switch_to.window(driver.window_handles[0])\n",
    "    driver.back()\n",
    "\n"
   ]
  }
 ],
 "metadata": {
  "kernelspec": {
   "display_name": "Python 3",
   "language": "python",
   "name": "python3"
  },
  "language_info": {
   "codemirror_mode": {
    "name": "ipython",
    "version": 3
   },
   "file_extension": ".py",
   "mimetype": "text/x-python",
   "name": "python",
   "nbconvert_exporter": "python",
   "pygments_lexer": "ipython3",
   "version": "3.10.6"
  },
  "orig_nbformat": 4
 },
 "nbformat": 4,
 "nbformat_minor": 2
}
